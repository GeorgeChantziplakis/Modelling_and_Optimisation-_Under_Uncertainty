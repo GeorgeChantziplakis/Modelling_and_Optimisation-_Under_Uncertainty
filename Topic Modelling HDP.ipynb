{
 "cells": [
  {
   "cell_type": "code",
   "execution_count": 1,
   "metadata": {},
   "outputs": [
    {
     "name": "stderr",
     "output_type": "stream",
     "text": [
      "[nltk_data] Downloading package punkt to\n",
      "[nltk_data]     C:\\Users\\giorg\\AppData\\Roaming\\nltk_data...\n",
      "[nltk_data]   Package punkt is already up-to-date!\n",
      "[nltk_data] Downloading package stopwords to\n",
      "[nltk_data]     C:\\Users\\giorg\\AppData\\Roaming\\nltk_data...\n",
      "[nltk_data]   Package stopwords is already up-to-date!\n"
     ]
    },
    {
     "data": {
      "text/plain": [
       "True"
      ]
     },
     "execution_count": 1,
     "metadata": {},
     "output_type": "execute_result"
    }
   ],
   "source": [
    "from nltk import pos_tag\n",
    "import pandas as pd\n",
    "import numpy as np \n",
    "from nltk.corpus import stopwords\n",
    "from nltk.tokenize import word_tokenize\n",
    "import re\n",
    "import nltk \n",
    "from itertools import chain\n",
    "from wordcloud import WordCloud, STOPWORDS\n",
    "import matplotlib.pyplot as plt\n",
    "import seaborn as sns\n",
    "import gensim\n",
    "import gensim.corpora as corpora\n",
    "from gensim.utils import simple_preprocess\n",
    "from gensim.models import LdaModel, CoherenceModel, HdpModel\n",
    "import spacy\n",
    "nltk.download('punkt')\n",
    "nltk.download('stopwords')"
   ]
  },
  {
   "cell_type": "code",
   "execution_count": 2,
   "metadata": {},
   "outputs": [],
   "source": [
    "pd.set_option('display.max_colwidth', None)\n",
    "df = pd.read_csv(r'C:\\Users\\giorg\\clean_text.csv', encoding = 'utf-8-sig')"
   ]
  },
  {
   "cell_type": "markdown",
   "metadata": {},
   "source": [
    "# Pre-Processing"
   ]
  },
  {
   "cell_type": "code",
   "execution_count": 4,
   "metadata": {},
   "outputs": [],
   "source": [
    "text = df['text']\n",
    "text = list(text)\n"
   ]
  },
  {
   "cell_type": "code",
   "execution_count": 5,
   "metadata": {},
   "outputs": [
    {
     "name": "stdout",
     "output_type": "stream",
     "text": [
      "[['folks', 'paste', 'cytokine', 'storm', 'pfizerbiontech']]\n"
     ]
    }
   ],
   "source": [
    "def sent_to_words(sentences):\n",
    "    for sentence in sentences:\n",
    "        yield(gensim.utils.simple_preprocess(str(sentence), deacc=True))  # deacc=True removes punctuations\n",
    "\n",
    "text_words = list(sent_to_words(text))\n",
    "\n",
    "print(text_words[:1])"
   ]
  },
  {
   "cell_type": "code",
   "execution_count": 6,
   "metadata": {},
   "outputs": [
    {
     "name": "stdout",
     "output_type": "stream",
     "text": [
      "['folks', 'paste', 'cytokine', 'storm', 'pfizerbiontech']\n"
     ]
    }
   ],
   "source": [
    "bigram = gensim.models.Phrases(text_words, min_count=1, threshold=10) \n",
    "trigram = gensim.models.Phrases(bigram[text_words], threshold=10)  \n",
    "\n",
    "bigram_mod = gensim.models.phrases.Phraser(bigram)\n",
    "trigram_mod = gensim.models.phrases.Phraser(trigram)\n",
    "\n",
    "print(trigram_mod[bigram_mod[text_words[0]]])"
   ]
  },
  {
   "cell_type": "code",
   "execution_count": 7,
   "metadata": {},
   "outputs": [],
   "source": [
    "def make_bigrams(texts):\n",
    "    return [bigram_mod[doc] for doc in texts]\n",
    "\n",
    "def make_trigrams(texts):\n",
    "    return [trigram_mod[bigram_mod[doc]] for doc in texts]\n",
    "\n",
    "def lemmatization(texts, allowed_postags=['NOUN', 'ADJ', 'VERB', 'ADV']):\n",
    "    \"\"\"https://spacy.io/api/annotation\"\"\"\n",
    "    texts_out = []\n",
    "    for sent in texts:\n",
    "        doc = nlp(\" \".join(sent)) \n",
    "        texts_out.append([token.lemma_ for token in doc if token.pos_ in allowed_postags])\n",
    "    return texts_out"
   ]
  },
  {
   "cell_type": "code",
   "execution_count": 8,
   "metadata": {},
   "outputs": [
    {
     "name": "stdout",
     "output_type": "stream",
     "text": [
      "[['folk', 'paste', 'cytokine', 'storm', 'pfizerbiontech']]\n"
     ]
    }
   ],
   "source": [
    "# Form Bigrams\n",
    "text_words_bigrams = make_bigrams(text_words)\n",
    "\n",
    "nlp = spacy.load('en_core_web_sm', disable=['parser', 'ner'])\n",
    "\n",
    "# Do lemmatization keeping only noun, adj, vb, adv\n",
    "text_lemmatized = lemmatization(text_words_bigrams, allowed_postags=['NOUN', 'ADJ', 'VERB', 'ADV'])\n",
    "\n",
    "print(text_lemmatized[:1])"
   ]
  },
  {
   "cell_type": "code",
   "execution_count": 9,
   "metadata": {},
   "outputs": [
    {
     "name": "stdout",
     "output_type": "stream",
     "text": [
      "[[(0, 1), (1, 1), (2, 1), (3, 1), (4, 1)]]\n"
     ]
    }
   ],
   "source": [
    "id2word = corpora.Dictionary(text_lemmatized)\n",
    "\n",
    "# Create Corpus\n",
    "texts = text_lemmatized\n",
    "\n",
    "# Term Document Frequency\n",
    "corpus = [id2word.doc2bow(text) for text in texts]\n",
    "\n",
    "# View\n",
    "print(corpus[:1])"
   ]
  },
  {
   "cell_type": "code",
   "execution_count": 10,
   "metadata": {},
   "outputs": [
    {
     "data": {
      "text/plain": [
       "'cytokine'"
      ]
     },
     "execution_count": 10,
     "metadata": {},
     "output_type": "execute_result"
    }
   ],
   "source": [
    "id2word[0]"
   ]
  },
  {
   "cell_type": "code",
   "execution_count": 11,
   "metadata": {},
   "outputs": [
    {
     "data": {
      "text/plain": [
       "[[('cytokine', 1),\n",
       "  ('folk', 1),\n",
       "  ('paste', 1),\n",
       "  ('pfizerbiontech', 1),\n",
       "  ('storm', 1)]]"
      ]
     },
     "execution_count": 11,
     "metadata": {},
     "output_type": "execute_result"
    }
   ],
   "source": [
    "[[(id2word[id], freq) for id, freq in cp] for cp in corpus[:1]]"
   ]
  },
  {
   "cell_type": "markdown",
   "metadata": {},
   "source": [
    "# Basic HDP model"
   ]
  },
  {
   "cell_type": "code",
   "execution_count": 12,
   "metadata": {},
   "outputs": [
    {
     "data": {
      "text/plain": [
       "[(0,\n",
       "  '0.059*vaccine + 0.035*moderna + 0.034*covid + 0.014*dose + 0.011*covaxin + 0.009*covidvaccine + 0.009*sputnikv + 0.009*today + 0.008*pfizer + 0.007*shoot + 0.007*second + 0.006*day + 0.006*india + 0.005*shot + 0.005*pfizerbiontech + 0.004*vaccination + 0.004*amp + 0.004*jab + 0.004*coronavirus + 0.004*sinovac'),\n",
       " (1,\n",
       "  '0.032*vaccine + 0.017*covid + 0.015*moderna + 0.011*covaxin + 0.010*dose + 0.006*today + 0.005*sputnikv + 0.005*covidvaccine + 0.004*pfizer + 0.004*pfizerbiontech + 0.004*india + 0.003*vaccination + 0.003*thank + 0.003*amp + 0.003*shoot + 0.003*day + 0.003*second + 0.002*shot + 0.002*sinopharm + 0.002*first'),\n",
       " (2,\n",
       "  '0.015*vaccine + 0.008*covid + 0.007*moderna + 0.004*covaxin + 0.003*dose + 0.003*pfizerbiontech + 0.003*sputnikv + 0.002*covidvaccine + 0.002*today + 0.002*pfizer + 0.001*day + 0.001*vaccination + 0.001*shoot + 0.001*india + 0.001*sinopharm + 0.001*amp + 0.001*second + 0.001*shot + 0.001*sinovac + 0.001*coronavirus'),\n",
       " (3,\n",
       "  '0.014*vaccine + 0.007*covid + 0.006*moderna + 0.004*covaxin + 0.003*dose + 0.003*sputnikv + 0.002*pfizerbiontech + 0.002*covidvaccine + 0.002*pfizer + 0.002*today + 0.001*vaccination + 0.001*shoot + 0.001*amp + 0.001*day + 0.001*second + 0.001*india + 0.001*shot + 0.001*sinovac + 0.001*thank + 0.001*sinopharm'),\n",
       " (4,\n",
       "  '0.015*vaccine + 0.008*covid + 0.006*moderna + 0.004*covaxin + 0.003*dose + 0.003*sputnikv + 0.003*pfizerbiontech + 0.002*pfizer + 0.002*covidvaccine + 0.002*today + 0.001*vaccination + 0.001*india + 0.001*amp + 0.001*shoot + 0.001*day + 0.001*sinovac + 0.001*second + 0.001*coronavirus + 0.001*sinopharm + 0.001*first'),\n",
       " (5,\n",
       "  '0.013*vaccine + 0.007*covid + 0.006*moderna + 0.003*covaxin + 0.003*dose + 0.002*sputnikv + 0.002*pfizerbiontech + 0.002*covidvaccine + 0.002*today + 0.002*pfizer + 0.001*vaccination + 0.001*day + 0.001*shoot + 0.001*second + 0.001*amp + 0.001*india + 0.001*shot + 0.001*sinovac + 0.001*thank + 0.001*jab'),\n",
       " (6,\n",
       "  '0.014*vaccine + 0.007*covid + 0.007*moderna + 0.004*covaxin + 0.003*dose + 0.002*sputnikv + 0.002*pfizerbiontech + 0.002*covidvaccine + 0.002*pfizer + 0.002*today + 0.001*india + 0.001*vaccination + 0.001*amp + 0.001*shoot + 0.001*second + 0.001*day + 0.001*good + 0.001*sinovac + 0.001*shot + 0.001*coronavirus'),\n",
       " (7,\n",
       "  '0.012*vaccine + 0.006*covid + 0.006*moderna + 0.003*covaxin + 0.003*dose + 0.002*sputnikv + 0.002*pfizerbiontech + 0.002*covidvaccine + 0.002*today + 0.002*pfizer + 0.001*vaccination + 0.001*shoot + 0.001*amp + 0.001*day + 0.001*india + 0.001*second + 0.001*first + 0.001*sinovac + 0.001*shot + 0.001*thank'),\n",
       " (8,\n",
       "  '0.013*vaccine + 0.007*covid + 0.006*moderna + 0.003*covaxin + 0.003*dose + 0.003*sputnikv + 0.002*pfizerbiontech + 0.002*covidvaccine + 0.002*today + 0.002*pfizer + 0.001*vaccination + 0.001*shoot + 0.001*day + 0.001*india + 0.001*sinovac + 0.001*amp + 0.001*second + 0.001*sinopharm + 0.001*thank + 0.001*shot'),\n",
       " (9,\n",
       "  '0.012*vaccine + 0.006*covid + 0.006*moderna + 0.003*covaxin + 0.003*dose + 0.003*sputnikv + 0.002*covidvaccine + 0.002*pfizerbiontech + 0.002*today + 0.002*pfizer + 0.001*vaccination + 0.001*shoot + 0.001*day + 0.001*amp + 0.001*india + 0.001*sinovac + 0.001*second + 0.001*sinopharm + 0.001*thank + 0.001*first'),\n",
       " (10,\n",
       "  '0.013*vaccine + 0.007*covid + 0.006*moderna + 0.003*covaxin + 0.003*dose + 0.003*sputnikv + 0.002*pfizerbiontech + 0.002*covidvaccine + 0.002*today + 0.002*pfizer + 0.001*vaccination + 0.001*shoot + 0.001*day + 0.001*india + 0.001*amp + 0.001*sinovac + 0.001*second + 0.001*first + 0.001*sinopharm + 0.001*jab'),\n",
       " (11,\n",
       "  '0.012*vaccine + 0.006*covid + 0.006*moderna + 0.003*covaxin + 0.003*dose + 0.003*sputnikv + 0.002*covidvaccine + 0.002*pfizerbiontech + 0.002*today + 0.002*pfizer + 0.001*shoot + 0.001*vaccination + 0.001*india + 0.001*amp + 0.001*day + 0.001*second + 0.001*sinovac + 0.001*shot + 0.001*sinopharm + 0.001*jab'),\n",
       " (12,\n",
       "  '0.012*vaccine + 0.006*covid + 0.006*moderna + 0.003*covaxin + 0.003*dose + 0.002*sputnikv + 0.002*pfizerbiontech + 0.002*covidvaccine + 0.002*today + 0.002*pfizer + 0.001*vaccination + 0.001*shoot + 0.001*amp + 0.001*india + 0.001*day + 0.001*second + 0.001*sinovac + 0.001*sinopharm + 0.001*thank + 0.001*jab'),\n",
       " (13,\n",
       "  '0.012*vaccine + 0.006*covid + 0.006*moderna + 0.003*covaxin + 0.003*dose + 0.002*sputnikv + 0.002*pfizerbiontech + 0.002*covidvaccine + 0.002*today + 0.002*pfizer + 0.001*day + 0.001*vaccination + 0.001*shoot + 0.001*second + 0.001*amp + 0.001*india + 0.001*shot + 0.001*sinovac + 0.001*sinopharm + 0.001*astrazeneca'),\n",
       " (14,\n",
       "  '0.012*vaccine + 0.006*covid + 0.006*moderna + 0.003*covaxin + 0.003*dose + 0.002*sputnikv + 0.002*pfizerbiontech + 0.002*covidvaccine + 0.002*today + 0.002*pfizer + 0.001*amp + 0.001*shoot + 0.001*vaccination + 0.001*day + 0.001*india + 0.001*second + 0.001*sinovac + 0.001*thank + 0.001*shot + 0.001*first'),\n",
       " (15,\n",
       "  '0.012*vaccine + 0.006*covid + 0.006*moderna + 0.003*covaxin + 0.003*sputnikv + 0.002*dose + 0.002*pfizerbiontech + 0.002*covidvaccine + 0.002*today + 0.002*pfizer + 0.001*shoot + 0.001*day + 0.001*vaccination + 0.001*india + 0.001*amp + 0.001*sinovac + 0.001*second + 0.001*jab + 0.001*sinopharm + 0.001*shot'),\n",
       " (16,\n",
       "  '0.012*vaccine + 0.006*covid + 0.006*moderna + 0.004*covaxin + 0.003*sputnikv + 0.003*dose + 0.002*pfizerbiontech + 0.002*covidvaccine + 0.002*today + 0.002*pfizer + 0.001*vaccination + 0.001*shoot + 0.001*india + 0.001*amp + 0.001*day + 0.001*second + 0.001*shot + 0.001*sinopharm + 0.001*coronavirus + 0.001*first'),\n",
       " (17,\n",
       "  '0.012*vaccine + 0.006*covid + 0.006*moderna + 0.003*covaxin + 0.003*dose + 0.002*sputnikv + 0.002*pfizerbiontech + 0.002*covidvaccine + 0.002*today + 0.001*pfizer + 0.001*shoot + 0.001*vaccination + 0.001*india + 0.001*jab + 0.001*amp + 0.001*day + 0.001*sinovac + 0.001*second + 0.001*sinopharm + 0.001*china'),\n",
       " (18,\n",
       "  '0.012*vaccine + 0.006*covid + 0.006*moderna + 0.003*covaxin + 0.003*sputnikv + 0.003*dose + 0.002*covidvaccine + 0.002*pfizerbiontech + 0.002*today + 0.001*pfizer + 0.001*vaccination + 0.001*india + 0.001*shoot + 0.001*amp + 0.001*day + 0.001*second + 0.001*sinovac + 0.001*sinopharm + 0.001*russia + 0.001*first'),\n",
       " (19,\n",
       "  '0.013*vaccine + 0.006*covid + 0.006*moderna + 0.004*covaxin + 0.003*sputnikv + 0.003*dose + 0.002*pfizerbiontech + 0.002*covidvaccine + 0.002*today + 0.002*pfizer + 0.001*shoot + 0.001*vaccination + 0.001*india + 0.001*day + 0.001*amp + 0.001*second + 0.001*coronavirus + 0.001*first + 0.001*sinovac + 0.001*sinopharm')]"
      ]
     },
     "execution_count": 12,
     "metadata": {},
     "output_type": "execute_result"
    }
   ],
   "source": [
    "hdp_model = HdpModel(corpus=corpus, id2word=id2word)\n",
    "hdp_model.show_topics()"
   ]
  },
  {
   "cell_type": "code",
   "execution_count": 15,
   "metadata": {},
   "outputs": [
    {
     "name": "stdout",
     "output_type": "stream",
     "text": [
      "\n",
      "Coherence Score:  0.20384487982077054\n"
     ]
    }
   ],
   "source": [
    "hdp_cm = CoherenceModel(model = hdp_model, corpus = corpus, dictionary= id2word, texts = text_lemmatized, coherence = \"c_v\")\n",
    "hdp_CM = hdp_cm.get_coherence()\n",
    "print('\\nCoherence Score: ', hdp_CM)"
   ]
  }
 ],
 "metadata": {
  "kernelspec": {
   "display_name": "Python 3",
   "language": "python",
   "name": "python3"
  },
  "language_info": {
   "codemirror_mode": {
    "name": "ipython",
    "version": 3
   },
   "file_extension": ".py",
   "mimetype": "text/x-python",
   "name": "python",
   "nbconvert_exporter": "python",
   "pygments_lexer": "ipython3",
   "version": "3.8.5"
  }
 },
 "nbformat": 4,
 "nbformat_minor": 4
}
